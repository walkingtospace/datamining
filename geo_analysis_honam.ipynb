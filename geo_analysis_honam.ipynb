{
 "cells": [
  {
   "cell_type": "code",
   "execution_count": 49,
   "metadata": {
    "collapsed": false,
    "scrolled": true
   },
   "outputs": [],
   "source": [
    "from __future__ import print_function\n",
    "import json\n",
    "import numpy as np\n",
    "from collections import defaultdict\n",
    "import matplotlib.pyplot as plt\n",
    "from mpl_toolkits.basemap import Basemap\n",
    "from collections import Counter\n",
    "from util import *\n",
    "from skutil import *\n",
    "\n",
    "from sklearn.base import BaseEstimator, TransformerMixin\n",
    "from sklearn.pipeline import Pipeline, FeatureUnion, make_pipeline, make_union\n",
    "from sklearn.feature_extraction import DictVectorizer\n",
    "from sklearn.linear_model import LogisticRegression\n",
    "from sklearn.svm import SVC, LinearSVC\n",
    "from sklearn.cross_validation import train_test_split\n",
    "from sklearn.metrics import classification_report\n",
    "from scipy.cluster.vq import kmeans2, whiten\n",
    "\n",
    "def mostCommon(lst):\n",
    "    data = Counter(lst)\n",
    "    return data.most_common(1)[0][0]\n",
    "\n",
    "def getKmeans(reviews, businesses):\n",
    "    geo_data = []\n",
    "    for review in reviews:\n",
    "        business_id = review['business_id']\n",
    "        lat = businesses[business_id]['latitude']\n",
    "        lon = businesses[business_id]['longitude']\n",
    "\n",
    "        geo_data.append([lat, lon])\n",
    "    centroid, label = kmeans2(whiten(geo_data), 10, iter = 30) # clustering into 10 groups\n",
    "    \n",
    "    return centroid, label\n",
    "\n",
    "def getLocalEliteFriends(reviews, users, label):\n",
    "    user_group = defaultdict(list)\n",
    "    elite_friends = defaultdict(list)\n",
    "    idx = 0\n",
    "    \n",
    "    for review in reviews:\n",
    "        user_id = review['user_id']\n",
    "        group_num = label[idx]\n",
    "        user_group[user_id].append(group_num)\n",
    "\n",
    "        idx += 1\n",
    "\n",
    "    for user_id in user_group:\n",
    "        user_group[user_id] = mostCommon(user_group[user_id])\n",
    "\n",
    "    for user_id in users:\n",
    "        friends = users[user_id]['friends']\n",
    "\n",
    "        same_group_cnt = 0\n",
    "        for friend_id in friends:\n",
    "            if friend_id not in user_group:\n",
    "                print(\"none existing user\" + friend_id)\n",
    "                continue\n",
    "\n",
    "            if user_group[friend_id] == user_group[user_id]:\n",
    "                same_group_cnt += 1\n",
    "        elite_friends[user_id] = same_group_cnt\n",
    "        \n",
    "    return elite_friends"
   ]
  },
  {
   "cell_type": "code",
   "execution_count": 50,
   "metadata": {
    "collapsed": false
   },
   "outputs": [],
   "source": [
    "with open('../data/yelp_academic_dataset_review.json') as f:\n",
    "    reviews = [json.loads(line) for line in f]\n",
    "with open('../data/yelp_academic_dataset_user.json') as f:\n",
    "    users = [json.loads(line) for line in f]\n",
    "with open('../data/yelp_academic_dataset_business.json') as f:\n",
    "    businesses = [json.loads(line) for line in f]"
   ]
  },
  {
   "cell_type": "code",
   "execution_count": 52,
   "metadata": {
    "collapsed": false
   },
   "outputs": [],
   "source": [
    "userMap = mapUsers(users)\n",
    "businessMap = mapBusinesses(businesses)"
   ]
  },
  {
   "cell_type": "code",
   "execution_count": 54,
   "metadata": {
    "collapsed": false
   },
   "outputs": [],
   "source": [
    "centroid, label = getKmeans(reviews, businessMap)"
   ]
  },
  {
   "cell_type": "code",
   "execution_count": 57,
   "metadata": {
    "collapsed": false
   },
   "outputs": [],
   "source": [
    "localEliteFriends = getLocalEliteFriends(reviews, userMap, label)"
   ]
  },
  {
   "cell_type": "code",
   "execution_count": 39,
   "metadata": {
    "collapsed": false
   },
   "outputs": [],
   "source": [
    "from mpl_toolkits.basemap import Basemap\n",
    "import matplotlib.pyplot as plt\n",
    "# setup Lambert Conformal basemap.\n",
    "# set resolution=None to skip processing of boundary datasets.\n",
    "m = Basemap(width=18000000,height=12000000,projection='lcc',\n",
    "            resolution=None,lat_1=45.,lat_2=55,lat_0=38,lon_0=-104.)\n",
    "m.bluemarble()\n",
    "\n",
    "# convert to map projection coords.\n",
    "# Note that lon,lat can be scalars, lists or numpy arrays.\n",
    "xpt,ypt = m(lons,lats)\n",
    "# convert back to lat/lon\n",
    "lonpt, latpt = m(xpt,ypt,inverse=True)\n",
    "m.plot(xpt,ypt,'co', markersize=14, alpha = 0.3)  # plot a blue dot there\n",
    "# put some text next to the dot, offset a little bit\n",
    "# (the offset is in map projection coordinates)\n",
    "\n",
    "plt.show()"
   ]
  },
  {
   "cell_type": "code",
   "execution_count": null,
   "metadata": {
    "collapsed": true
   },
   "outputs": [],
   "source": []
  }
 ],
 "metadata": {
  "kernelspec": {
   "display_name": "Python 2",
   "language": "python",
   "name": "python2"
  },
  "language_info": {
   "codemirror_mode": {
    "name": "ipython",
    "version": 2
   },
   "file_extension": ".py",
   "mimetype": "text/x-python",
   "name": "python",
   "nbconvert_exporter": "python",
   "pygments_lexer": "ipython2",
   "version": "2.7.10"
  }
 },
 "nbformat": 4,
 "nbformat_minor": 0
}
