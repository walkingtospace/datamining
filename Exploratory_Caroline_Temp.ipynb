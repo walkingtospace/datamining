{
 "cells": [
  {
   "cell_type": "code",
   "execution_count": 66,
   "metadata": {
    "collapsed": true
   },
   "outputs": [],
   "source": [
    "import urllib\n",
    "import math\n",
    "import csv\n",
    "import operator \n",
    "import datetime\n",
    "import re\n",
    "from sklearn.ensemble import RandomForestRegressor\n",
    "from sklearn import cross_validation\n",
    "import numpy as np\n",
    "import scipy as sp\n",
    "import copy\n",
    "import matplotlib.pyplot as plt\n",
    "from matplotlib.dates import date2num\n",
    "import plotly.plotly as py\n",
    "from matplotlib import pylab"
   ]
  },
  {
   "cell_type": "code",
   "execution_count": 3,
   "metadata": {
    "collapsed": false
   },
   "outputs": [
    {
     "name": "stdout",
     "output_type": "stream",
     "text": [
      "Reading data...\n",
      "done\n"
     ]
    }
   ],
   "source": [
    "#Yelp Elite Count\n",
    "def parseData(fname):\n",
    "  for l in urllib.urlopen(fname):\n",
    "    yield eval(l)\n",
    "\n",
    "print \"Reading data...\"\n",
    "users = list(parseData(\"/Users/carolinekim/Desktop/AWS/Yelp/yelp_academic_dataset_user.json\"))\n",
    "print \"done\""
   ]
  },
  {
   "cell_type": "code",
   "execution_count": 94,
   "metadata": {
    "collapsed": false
   },
   "outputs": [
    {
     "name": "stdout",
     "output_type": "stream",
     "text": [
      "Reading review data...\n",
      "done\n"
     ]
    }
   ],
   "source": [
    "# review and tip\n",
    "print \"Reading review data...\"\n",
    "reviews = list(parseData(\"/Users/carolinekim/Desktop/AWS/Yelp/yelp_academic_dataset_review.json\"))\n",
    "print \"done\""
   ]
  },
  {
   "cell_type": "code",
   "execution_count": 96,
   "metadata": {
    "collapsed": false
   },
   "outputs": [
    {
     "name": "stdout",
     "output_type": "stream",
     "text": [
      "Reading tip data...\n",
      "done\n"
     ]
    }
   ],
   "source": [
    "# review and tip\n",
    "print \"Reading tip data...\"\n",
    "reviews = list(parseData(\"/Users/carolinekim/Desktop/AWS/Yelp/yelp_academic_dataset_tip.json\"))\n",
    "print \"done\""
   ]
  },
  {
   "cell_type": "code",
   "execution_count": 4,
   "metadata": {
    "collapsed": false
   },
   "outputs": [
    {
     "name": "stdout",
     "output_type": "stream",
     "text": [
      "366715\n"
     ]
    }
   ],
   "source": [
    "print len(users)"
   ]
  },
  {
   "cell_type": "code",
   "execution_count": 99,
   "metadata": {
    "collapsed": false
   },
   "outputs": [],
   "source": [
    "# consecutive elite count\n",
    "# n-utive elite count\n",
    "ncutiveDic = []\n",
    "for x in range(0, 20):\n",
    "    ncutiveDic.append(0)\n",
    "\n",
    "for x in range(0, len(users)):\n",
    "    row = users[x]\n",
    "    years = users[x]['elite']\n",
    "    if len(years) > 0:\n",
    "        for y in range (0, len(years) - 1):\n",
    "            z = y\n",
    "            ncutive = 0\n",
    "            while (True):\n",
    "                if years[z] + 1 == years[z+1]:\n",
    "                    ncutive += 1\n",
    "                else:\n",
    "                    y = z\n",
    "                    break\n",
    "                z += 1\n",
    "                if z == len(years) - 1:\n",
    "                    break\n",
    "            ncutiveDic[ncutive] += 1"
   ]
  },
  {
   "cell_type": "code",
   "execution_count": 100,
   "metadata": {
    "collapsed": false
   },
   "outputs": [
    {
     "name": "stdout",
     "output_type": "stream",
     "text": [
      "[834, 21881, 14506, 9311, 5217, 2906, 1377, 604, 247, 71, 14, 0, 0, 0, 0, 0, 0, 0, 0, 0]\n"
     ]
    }
   ],
   "source": [
    "print ncutiveDic"
   ]
  },
  {
   "cell_type": "code",
   "execution_count": 111,
   "metadata": {
    "collapsed": false
   },
   "outputs": [
    {
     "data": {
      "text/plain": [
       "<matplotlib.text.Text at 0x15678f510>"
      ]
     },
     "execution_count": 111,
     "metadata": {},
     "output_type": "execute_result"
    },
    {
     "data": {
      "image/png": "[encoded data removed]",
      "text/plain": [
       "<matplotlib.figure.Figure at 0x1567a7690>"
      ]
     },
     "metadata": {},
     "output_type": "display_data"
    }
   ],
   "source": [
    "\n",
    "x = range(0, 11)\n",
    "ncutiveDic = ncutiveDic[0:11]\n",
    "ax = plt.subplot(111)\n",
    "ax.bar(x, ncutiveDic, width=0.5)\n",
    "#ax.bar(x+0.5, z,width=10,color='b',align='center')\n",
    "pylab.xlabel(\"N\")\n",
    "pylab.ylabel(\"Count of N-secutive Elite Occurrence\")"
   ]
  },
  {
   "cell_type": "code",
   "execution_count": 19,
   "metadata": {
    "collapsed": false
   },
   "outputs": [
    {
     "name": "stdout",
     "output_type": "stream",
     "text": [
      "341414\n"
     ]
    }
   ],
   "source": [
    "# Count users who have never been elite (Elite Retetion rate)\n",
    "count = 0\n",
    "for x in range(0, len(users)):\n",
    "    count += (users[x]['elite'] == [])\n",
    "print count"
   ]
  },
  {
   "cell_type": "code",
   "execution_count": 28,
   "metadata": {
    "collapsed": false
   },
   "outputs": [
    {
     "name": "stdout",
     "output_type": "stream",
     "text": [
      "0.0689936326575\n"
     ]
    }
   ],
   "source": [
    "# % of users who have been yelp elite at least once\n",
    "print (366715.0-341414) / 366715"
   ]
  },
  {
   "cell_type": "code",
   "execution_count": 29,
   "metadata": {
    "collapsed": false
   },
   "outputs": [
    {
     "name": "stdout",
     "output_type": "stream",
     "text": [
      "{2005: 117, 2006: 707, 2007: 1924, 2008: 2942, 2009: 5202, 2010: 8206, 2011: 10174, 2012: 13403, 2013: 13696, 2014: 14512, 2015: 11386}\n"
     ]
    }
   ],
   "source": [
    "# count yelp eliters by year\n",
    "yelpEliteCount = {}\n",
    "\n",
    "for x in range(0, len(users)):\n",
    "    row= users[x]\n",
    "    years = users[x]['elite']\n",
    "    if len(years) > 0:\n",
    "        for year in years:\n",
    "            if year not in yelpEliteCount:\n",
    "                yelpEliteCount[year] = 0\n",
    "            yelpEliteCount[year] += 1\n",
    "\n",
    "print yelpEliteCount"
   ]
  },
  {
   "cell_type": "code",
   "execution_count": 37,
   "metadata": {
    "collapsed": false
   },
   "outputs": [
    {
     "name": "stdout",
     "output_type": "stream",
     "text": [
      "{'2006': 3974, '2007': 10676, '2004': 51, '2005': 691, '2015': 1148, '2014': 50505, '2008': 19390, '2009': 32968, '2011': 69210, '2010': 50722, '2013': 63483, '2012': 63897}\n",
      "{'2014-09': 3250, '2014-08': 4485, '2014-05': 5251, '2014-04': 5019, '2014-07': 5446, '2014-06': 5127, '2014-01': 5174, '2014-03': 5363, '2014-02': 4531, '2010-01': 3662, '2010-03': 3793, '2010-02': 3431, '2013-08': 6120, '2013-09': 5086, '2010-07': 5729, '2010-06': 4523, '2010-09': 4552, '2013-05': 5703, '2013-06': 5756, '2013-07': 6046, '2013-01': 5480, '2013-02': 4963, '2013-03': 5495, '2012-07': 5866, '2004-12': 12, '2004-11': 6, '2004-10': 33, '2012-04': 5014, '2015-01': 1148, '2014-12': 1733, '2014-10': 2950, '2014-11': 2176, '2011-11': 5284, '2011-10': 5466, '2011-12': 4953, '2012-09': 5472, '2012-08': 5524, '2012-03': 5485, '2012-02': 4915, '2012-01': 5467, '2010-12': 4563, '2012-06': 5493, '2010-10': 4064, '2010-11': 4060, '2012-05': 5066, '2010-05': 3470, '2010-04': 3475, '2011-08': 6144, '2011-09': 5268, '2011-02': 5755, '2011-03': 6121, '2011-01': 5722, '2011-06': 6059, '2011-07': 6718, '2011-04': 5762, '2011-05': 5958, '2013-04': 5138, '2010-08': 5400, '2012-10': 5757, '2012-11': 4873, '2012-12': 4965, '2007-09': 898, '2007-08': 1103, '2006-11': 386, '2006-10': 455, '2006-12': 509, '2007-01': 743, '2007-03': 720, '2007-02': 682, '2007-05': 892, '2007-04': 791, '2007-07': 1093, '2007-06': 938, '2005-03': 48, '2005-02': 21, '2005-01': 16, '2005-07': 69, '2005-06': 46, '2005-05': 49, '2005-04': 52, '2005-09': 53, '2005-08': 85, '2007-12': 972, '2007-10': 893, '2007-11': 951, '2006-02': 185, '2006-03': 238, '2006-01': 192, '2006-06': 263, '2006-07': 303, '2006-04': 234, '2006-05': 222, '2008-12': 1802, '2008-11': 1836, '2008-10': 1665, '2005-10': 68, '2005-11': 68, '2005-12': 116, '2008-08': 1896, '2008-09': 1798, '2008-01': 1303, '2008-02': 1279, '2008-03': 1393, '2008-04': 1380, '2008-05': 1431, '2008-06': 1642, '2008-07': 1965, '2006-08': 542, '2006-09': 445, '2009-07': 3127, '2009-06': 2910, '2009-05': 2747, '2009-04': 2817, '2009-03': 2467, '2009-02': 2351, '2009-01': 2511, '2009-09': 2993, '2009-08': 3448, '2013-12': 4444, '2013-11': 4397, '2013-10': 4855, '2009-10': 2652, '2009-11': 2348, '2009-12': 2597}\n"
     ]
    }
   ],
   "source": [
    "# of total yelp users in the database\n",
    "yelpUserCountByJoinYear = {}\n",
    "yelpUserCountByJoinYearMonth = {}\n",
    "\n",
    "for x in range(0, len(users)):\n",
    "    row= users[x]\n",
    "    date = users[x]['yelping_since']\n",
    "    year = date[0:4]\n",
    "    if year not in yelpUserCountByJoinYear:\n",
    "        yelpUserCountByJoinYear[year] = 0\n",
    "    yelpUserCountByJoinYear[year] += 1\n",
    "    if date not in yelpUserCountByJoinYearMonth:\n",
    "        yelpUserCountByJoinYearMonth[date] = 0\n",
    "    yelpUserCountByJoinYearMonth[date] += 1\n",
    "    \n",
    "print yelpUserCountByJoinYear\n",
    "print yelpUserCountByJoinYearMonth"
   ]
  },
  {
   "cell_type": "code",
   "execution_count": 78,
   "metadata": {
    "collapsed": false
   },
   "outputs": [],
   "source": [
    "# Total Yelp Users since 2005-01\n",
    "months = []\n",
    "monthsDateTime = []\n",
    "userCount = []\n",
    "\n",
    "sinceYear = 2005\n",
    "sinceMonth = 1\n",
    "\n",
    "offset = 0\n",
    "prevUserCount = 0\n",
    "for year in range(2005, 2015):\n",
    "    for month in range(1,13):\n",
    "        key = str(year)+'-'+str(month).zfill(2)\n",
    "        userCountIncrease = 0\n",
    "        if key in yelpUserCountByJoinYearMonth:\n",
    "            userCountIncrease = yelpUserCountByJoinYearMonth[key]\n",
    "        userCount.append(userCountIncrease + prevUserCount)\n",
    "        prevUserCount = userCountIncrease + prevUserCount\n",
    "        months.append(offset)\n",
    "        monthsDateTime.append(datetime.datetime(year, month, 1, 10, 0))\n",
    "        offset += 1\n",
    "        "
   ]
  },
  {
   "cell_type": "code",
   "execution_count": 80,
   "metadata": {
    "collapsed": false
   },
   "outputs": [],
   "source": [
    "# Total Yelp Users since 2005-01\n",
    "yearsDateTime = []\n",
    "userCountYears = []\n",
    "eliteUserCountYears = []\n",
    "\n",
    "prevUserCount = 0\n",
    "for year in range(2005, 2015):\n",
    "    key = str(year)\n",
    "    userCountIncrease = 0\n",
    "    if key in yelpUserCountByJoinYear:\n",
    "        userCountIncrease = yelpUserCountByJoinYear[key]\n",
    "    userCountYears.append(userCountIncrease + prevUserCount)\n",
    "    prevUserCount = userCountIncrease + prevUserCount\n",
    "    yearsDateTime.append(datetime.datetime(year, 6, 1, 10, 0))\n",
    "    eliteUserCountYears.append(yelpEliteCount[year])\n",
    "        "
   ]
  },
  {
   "cell_type": "code",
   "execution_count": 70,
   "metadata": {
    "collapsed": false
   },
   "outputs": [
    {
     "data": {
      "text/plain": [
       "<matplotlib.text.Text at 0x153b3a9d0>"
      ]
     },
     "execution_count": 70,
     "metadata": {},
     "output_type": "execute_result"
    },
    {
     "data": {
      "image/png": "[encoded data removed]",
      "text/plain": [
       "<matplotlib.figure.Figure at 0x153d03250>"
      ]
     },
     "metadata": {},
     "output_type": "display_data"
    }
   ],
   "source": [
    "x = monthsDateTime\n",
    "y = userCount\n",
    "ax = plt.subplot(111)\n",
    "ax.bar(x, y, width=10)\n",
    "pylab.xlabel(\"Year\")\n",
    "pylab.ylabel(\"Yelp User Count\")"
   ]
  },
  {
   "cell_type": "code",
   "execution_count": 93,
   "metadata": {
    "collapsed": false
   },
   "outputs": [
    {
     "data": {
      "text/plain": [
       "<matplotlib.text.Text at 0x154645bd0>"
      ]
     },
     "execution_count": 93,
     "metadata": {},
     "output_type": "execute_result"
    },
    {
     "data": {
      "image/png": "[encoded data removed]",
      "text/plain": [
       "<matplotlib.figure.Figure at 0x1556a01d0>"
      ]
     },
     "metadata": {},
     "output_type": "display_data"
    }
   ],
   "source": [
    "x = yearsDateTime\n",
    "y = userCountYears\n",
    "z = eliteUserCountYears\n",
    "\n",
    "ratioOverYear = []\n",
    "for i in range (0, len(x)):\n",
    "    ratioOverYear.append(z[i]*1.0/y[i]) \n",
    "\n",
    "x = date2num(x)\n",
    "ax = plt.subplot(111)\n",
    "ax.bar(x, ratioOverYear, width=30)\n",
    "#ax.bar(x+0.5, z,width=10,color='b',align='center')\n",
    "ax.xaxis_date()\n",
    "pylab.xlabel(\"Year\")\n",
    "pylab.ylabel(\"# of Elite / # of Total User\")"
   ]
  },
  {
   "cell_type": "code",
   "execution_count": 97,
   "metadata": {
    "collapsed": false
   },
   "outputs": [
    {
     "data": {
      "text/plain": [
       "<matplotlib.text.Text at 0x11c130310>"
      ]
     },
     "execution_count": 97,
     "metadata": {},
     "output_type": "execute_result"
    },
    {
     "data": {
      "image/png": "[encoded data removed]",
      "text/plain": [
       "<matplotlib.figure.Figure at 0x155b32b90>"
      ]
     },
     "metadata": {},
     "output_type": "display_data"
    }
   ],
   "source": [
    "x = yearsDateTime\n",
    "z = eliteUserCountYears\n",
    "\n",
    "x = date2num(x)\n",
    "ax = plt.subplot(111)\n",
    "ax.bar(x, z, width=10)\n",
    "ax.xaxis_date()\n",
    "pylab.xlabel(\"Year\")\n",
    "pylab.ylabel(\"# of Elite\")"
   ]
  },
  {
   "cell_type": "code",
   "execution_count": 60,
   "metadata": {
    "collapsed": false
   },
   "outputs": [
    {
     "data": {
      "image/png": "[encoded data removed]",
      "text/plain": [
       "<matplotlib.figure.Figure at 0x11be41f90>"
      ]
     },
     "metadata": {},
     "output_type": "display_data"
    },
    {
     "data": {
      "image/png": "[encoded data removed]",
      "text/plain": [
       "<matplotlib.figure.Figure at 0x1527f9dd0>"
      ]
     },
     "metadata": {},
     "output_type": "display_data"
    }
   ],
   "source": [
    "date = plt.figure()\n",
    "\n",
    "x = [datetime.datetime(2010, 12, 1, 10, 0),\n",
    "    datetime.datetime(2011, 1, 4, 9, 0),\n",
    "    datetime.datetime(2011, 5, 5, 9, 0)]\n",
    "y = [4, 9, 2]\n",
    "\n",
    "ax = plt.subplot(111)\n",
    "ax.bar(months, userCount, width=10)\n",
    "pylab.xlabel(\"FOO\")\n",
    "pylab.ylabel(\"FOO\")\n",
    "pylab.title(\"Testing\")\n",
    "#ax.xaxis_date()\n",
    "\n",
    "\n",
    "multiple_bars = plt.figure()\n",
    "\n",
    "x = [datetime.datetime(2011, 1, 4, 0, 0),\n",
    "     datetime.datetime(2012, 1, 5, 0, 0),\n",
    "     datetime.datetime(2013, 1, 6, 0, 0)]\n",
    "x = date2num(x)\n",
    "\n",
    "y = [4, 9, 2]\n",
    "z= [1,2,3]\n",
    "k= [11,12,13]\n",
    "\n",
    "ax = plt.subplot(111)\n",
    "ax.bar(x-0.2, y,width=0.2,color='b',align='center')\n",
    "ax.bar(x, z,width=0.2,color='g',align='center')\n",
    "ax.bar(x+0.2, k,width=0.2,color='r',align='center')\n",
    "ax.xaxis_date()\n",
    "\n",
    "plt.show()\n"
   ]
  },
  {
   "cell_type": "code",
   "execution_count": null,
   "metadata": {
    "collapsed": true
   },
   "outputs": [],
   "source": []
  }
 ],
 "metadata": {
  "kernelspec": {
   "display_name": "Python 2",
   "language": "python",
   "name": "python2"
  },
  "language_info": {
   "codemirror_mode": {
    "name": "ipython",
    "version": 2
   },
   "file_extension": ".py",
   "mimetype": "text/x-python",
   "name": "python",
   "nbconvert_exporter": "python",
   "pygments_lexer": "ipython2",
   "version": "2.7.10"
  }
 },
 "nbformat": 4,
 "nbformat_minor": 0
}
