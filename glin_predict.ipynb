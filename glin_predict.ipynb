{
 "cells": [
  {
   "cell_type": "code",
   "execution_count": null,
   "metadata": {
    "collapsed": false,
    "scrolled": true
   },
   "outputs": [],
   "source": [
    "from __future__ import print_function\n",
    "import json\n",
    "import numpy as np\n",
    "\n",
    "from sklearn.base import BaseEstimator, TransformerMixin\n",
    "from sklearn.pipeline import Pipeline, FeatureUnion, make_pipeline, make_union\n",
    "from sklearn.feature_extraction import DictVectorizer\n",
    "from sklearn.linear_model import LogisticRegression\n",
    "from sklearn.svm import SVC, LinearSVC\n",
    "from sklearn.cross_validation import train_test_split\n",
    "from sklearn.metrics import classification_report"
   ]
  },
  {
   "cell_type": "code",
   "execution_count": null,
   "metadata": {
    "collapsed": true
   },
   "outputs": [],
   "source": [
    "with open('../data/yelp_academic_dataset_user.json') as f:\n",
    "    users = [json.loads(line) for line in f]\n",
    "with open('../data/yelp_academic_dataset_review.json') as f:\n",
    "    reviews = [json.loads(line) for line in f]"
   ]
  },
  {
   "cell_type": "code",
   "execution_count": 94,
   "metadata": {
    "collapsed": true
   },
   "outputs": [],
   "source": [
    "# Split users into train and test set.\n",
    "usersTrain, usersTest = train_test_split(users, random_state=0)"
   ]
  },
  {
   "cell_type": "code",
   "execution_count": null,
   "metadata": {
    "collapsed": true
   },
   "outputs": [],
   "source": [
    "class SelectKeys(BaseEstimator, TransformerMixin):\n",
    "    \"\"\"Transforms a list of a dictionaries into a list of subset dictionaries.\n",
    "    For each dictionary, select a subset of their key and values.\"\"\"\n",
    "    def __init__(self, keys):\n",
    "        self.keys = keys\n",
    "    def fit(self, x, y=None):\n",
    "        return self\n",
    "    def transform(self, data):\n",
    "        return np.array([{k: d[k] for k in self.keys} for d in data])"
   ]
  },
  {
   "cell_type": "code",
   "execution_count": null,
   "metadata": {
    "collapsed": true
   },
   "outputs": [],
   "source": [
    "class SelectValue(BaseEstimator, TransformerMixin):\n",
    "    \"\"\"Transforms a list of dictionaries into a list of values by selecting the value \n",
    "    of the given key for each dictionary.\"\"\"\n",
    "    def __init__(self, key):\n",
    "        self.key = key\n",
    "    def fit(self, x, y=None):\n",
    "        return self\n",
    "    def transform(self, data):\n",
    "        return [d[self.key] for d in data]"
   ]
  },
  {
   "cell_type": "code",
   "execution_count": null,
   "metadata": {
    "collapsed": true
   },
   "outputs": [],
   "source": [
    "class ApplyFunc(BaseEstimator, TransformerMixin):\n",
    "    \"\"\"Transforms a list of values by apply the function to each value.\"\"\"\n",
    "    def __init__(self, f):\n",
    "        self.f = f\n",
    "    def fit(self, x, y=None):\n",
    "        return self\n",
    "    def transform(self, data):\n",
    "        return [self.f(d) for d in data]"
   ]
  },
  {
   "cell_type": "code",
   "execution_count": null,
   "metadata": {
    "collapsed": true
   },
   "outputs": [],
   "source": [
    "class IdentityVectorizer(BaseEstimator, TransformerMixin):\n",
    "    \"\"\"Wraps data values in a list.\"\"\"\n",
    "    def __init__(self):\n",
    "        pass\n",
    "    def fit(self, x, y=None):\n",
    "        return self\n",
    "    def transform(self, data):\n",
    "        return [[d] for d in data]"
   ]
  },
  {
   "cell_type": "code",
   "execution_count": null,
   "metadata": {
    "collapsed": true
   },
   "outputs": [],
   "source": [
    "def isElite(year, user):\n",
    "    \"\"\"True if user was elite in the given year.\"\"\"\n",
    "    return year in user['elite']"
   ]
  },
  {
   "cell_type": "code",
   "execution_count": null,
   "metadata": {
    "collapsed": true
   },
   "outputs": [],
   "source": [
    "users[0]"
   ]
  },
  {
   "cell_type": "code",
   "execution_count": null,
   "metadata": {
    "collapsed": false
   },
   "outputs": [],
   "source": [
    "baseUserFeatures = {'average_stars', 'fans', 'review_count'}\n",
    "\n",
    "# Seperate pipelines for processing different subsets of features.\n",
    "base = make_pipeline(SelectKeys(baseUserFeatures), DictVectorizer())\n",
    "compliments = make_pipeline(SelectValue('compliments'), DictVectorizer())\n",
    "numFriends = make_pipeline(SelectValue('friends'), ApplyFunc(lambda x: len(x)), IdentityVectorizer())\n",
    "## Features which take into elite history into account.\n",
    "curYear = 2015\n",
    "prevYearElite = make_pipeline(SelectValue('elite'), ApplyFunc(lambda x: curYear - 1 in x), IdentityVectorizer())\n",
    "wasElite = make_pipeline(SelectValue('elite'), ApplyFunc(lambda x: True if [y for y in x if y < curYear] else False), IdentityVectorizer())\n",
    "\n",
    "#Union all the features together\n",
    "userFeatures = make_union(base, compliments, numFriends, prevYearElite, wasElite)"
   ]
  },
  {
   "cell_type": "code",
   "execution_count": null,
   "metadata": {
    "collapsed": true
   },
   "outputs": [],
   "source": [
    "logregclf = make_pipeline(userFeatures, LogisticRegression())"
   ]
  },
  {
   "cell_type": "code",
   "execution_count": null,
   "metadata": {
    "collapsed": false
   },
   "outputs": [],
   "source": [
    "logregclf.fit(usersTrain, [isElite(2015, u) for u in usersTrain])"
   ]
  },
  {
   "cell_type": "code",
   "execution_count": null,
   "metadata": {
    "collapsed": false,
    "scrolled": true
   },
   "outputs": [],
   "source": [
    "predictions = logregclf.predict(usersTest)\n",
    "print(classification_report([isElite(2015, u) for u in usersTest], predictions))"
   ]
  },
  {
   "cell_type": "code",
   "execution_count": null,
   "metadata": {
    "collapsed": true
   },
   "outputs": [],
   "source": [
    "svmclf = make_pipeline(userFeatures, LinearSVC())"
   ]
  },
  {
   "cell_type": "code",
   "execution_count": null,
   "metadata": {
    "collapsed": false
   },
   "outputs": [],
   "source": [
    "svmclf.fit(usersTrain, [isElite(2015, u) for u in usersTrain])"
   ]
  },
  {
   "cell_type": "code",
   "execution_count": null,
   "metadata": {
    "collapsed": false
   },
   "outputs": [],
   "source": [
    "predictions = svmclf.predict(usersTest)\n",
    "print(classification_report([isElite(2015, u) for u in usersTest], predictions))"
   ]
  },
  {
   "cell_type": "code",
   "execution_count": null,
   "metadata": {
    "collapsed": true
   },
   "outputs": [],
   "source": []
  }
 ],
 "metadata": {
  "kernelspec": {
   "display_name": "Python 3",
   "language": "python",
   "name": "python3"
  },
  "language_info": {
   "codemirror_mode": {
    "name": "ipython",
    "version": 3
   },
   "file_extension": ".py",
   "mimetype": "text/x-python",
   "name": "python",
   "nbconvert_exporter": "python",
   "pygments_lexer": "ipython3",
   "version": "3.4.3"
  }
 },
 "nbformat": 4,
 "nbformat_minor": 0
}
